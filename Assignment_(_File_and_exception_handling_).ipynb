{
  "nbformat": 4,
  "nbformat_minor": 0,
  "metadata": {
    "colab": {
      "provenance": []
    },
    "kernelspec": {
      "name": "python3",
      "display_name": "Python 3"
    },
    "language_info": {
      "name": "python"
    }
  },
  "cells": [
    {
      "cell_type": "markdown",
      "source": [
        "**ASSIGNMENT - ( File and Exception Handling )**"
      ],
      "metadata": {
        "id": "anj_g0PfSPLQ"
      }
    },
    {
      "cell_type": "markdown",
      "source": [
        "- Theory Questions :"
      ],
      "metadata": {
        "id": "9JtO_j8ZSPfH"
      }
    },
    {
      "cell_type": "markdown",
      "source": [
        "- Q1- What is the difference between interpreted and compiled languages ?"
      ],
      "metadata": {
        "id": "4wKYWlmVSPkL"
      }
    },
    {
      "cell_type": "markdown",
      "source": [
        "Ans - 1.Compiled languages: Code is translated into machine code by a compiler before execution.\n",
        "\n",
        "2.Interpreted languages: Code is executed line-by-line by an interpreter at runtime\n",
        "\n",
        "3.Python is primarily interpreted, but it actually compiles to bytecode internally before interpreting."
      ],
      "metadata": {
        "id": "iu1oQ1GTSPnx"
      }
    },
    {
      "cell_type": "markdown",
      "source": [
        "- Q2- What is exception handling in Python ?"
      ],
      "metadata": {
        "id": "cLyzl7f2S4tR"
      }
    },
    {
      "cell_type": "markdown",
      "source": [
        "Ans - A way to gracefully handle runtime errors without crashing the program. It Uses try, except, else, and finally blocks to catch and manage errors."
      ],
      "metadata": {
        "id": "3FR4_pfxS-9Y"
      }
    },
    {
      "cell_type": "markdown",
      "source": [
        "- Q3- What is the purpose of the finally block in exception handling?"
      ],
      "metadata": {
        "id": "pPAaA6ojTGug"
      }
    },
    {
      "cell_type": "markdown",
      "source": [
        "Ans - Code inside finally runs no matter what—whether an exception occurs or not. It is commonly used for cleanup like closing files or releasing resources."
      ],
      "metadata": {
        "id": "HMIOBG-mTJ9x"
      }
    },
    {
      "cell_type": "markdown",
      "source": [
        "- Q-4 What is logging in Python?"
      ],
      "metadata": {
        "id": "KzvIOw8cTSjL"
      }
    },
    {
      "cell_type": "markdown",
      "source": [
        "Ans - A method to record events, errors, warnings, or debugging info during program execution. It helps track program flow and diagnose issues without printing directly to the console."
      ],
      "metadata": {
        "id": "5YU3eL8STVMI"
      }
    },
    {
      "cell_type": "markdown",
      "source": [
        "- Q5-  What is the significance of the __del__ method in Python?"
      ],
      "metadata": {
        "id": "lr821jUMTaQi"
      }
    },
    {
      "cell_type": "markdown",
      "source": [
        "Ans - A destructor method called when an object is about to be destroyed by garbage collection. It is used to release resources, but not recommended for critical cleanup due to unpredictable call timing."
      ],
      "metadata": {
        "id": "9EkTqwQZTdjN"
      }
    },
    {
      "cell_type": "markdown",
      "source": [
        "- Q6- What is the difference between import and from ... import in Python?"
      ],
      "metadata": {
        "id": "a5wgPLOlThoX"
      }
    },
    {
      "cell_type": "markdown",
      "source": [
        "Ans -\n",
        "\n",
        "*   import module → Imports the entire module; access via module.name\n",
        "*   from module import name → Imports specific functions/variables/classes directly; access without module prefix\n"
      ],
      "metadata": {
        "id": "11p9yPm1Tkug"
      }
    },
    {
      "cell_type": "markdown",
      "source": [
        "- Q-7 How can you handle multiple exceptions in Python?"
      ],
      "metadata": {
        "id": "ODjA8Cy3TtT5"
      }
    },
    {
      "cell_type": "markdown",
      "source": [
        "Ans - In Python, sometimes more than one type of error can occur in the same block of code. To handle this, we can catch multiple exceptions.\n",
        "\n",
        "There are two main ways:\n",
        "\n",
        "*   Using multiple except blocks - we write one except block for each type of error.\n",
        "\n",
        "- for Example :\n",
        "try:\n",
        "    #risky code\n",
        "except ValueError:\n",
        "    #handle value error\n",
        "except TypeError:\n",
        "    #handle type error\n",
        "\n",
        "\n",
        "*   Using a single except with a tuple - You group multiple exceptions together.\n",
        "\n",
        "- for example :\n",
        "try:\n",
        "    #risky code\n",
        "except (ValueError, TypeError):\n",
        "    #handle both errors here.\n"
      ],
      "metadata": {
        "id": "1dcbPfoFTxaV"
      }
    },
    {
      "cell_type": "markdown",
      "source": [
        "- Q8- What is the purpose of the with statement when handling files in Python?"
      ],
      "metadata": {
        "id": "DgDi4AXIT0I1"
      }
    },
    {
      "cell_type": "markdown",
      "source": [
        "Ans - It automatically manages file opening and closing.\n",
        "\n",
        "Even if an exception occurs, the file is properly closed."
      ],
      "metadata": {
        "id": "oT8oUcFyT4KF"
      }
    },
    {
      "cell_type": "markdown",
      "source": [
        "- Q9- What is the difference between multithreading and multiprocessing?"
      ],
      "metadata": {
        "id": "5Uv_zl-6UFEG"
      }
    },
    {
      "cell_type": "markdown",
      "source": [
        "Ans -\n",
        "* Multithreading: Multiple threads share the same memory space; better for I/O-bound tasks.\n",
        "\n",
        "* Multiprocessing: Multiple processes have separate memory; better for CPU-bound tasks."
      ],
      "metadata": {
        "id": "2-0VJrJvUI-K"
      }
    },
    {
      "cell_type": "markdown",
      "source": [
        "- Q10- What are the advantages of using logging in a program?"
      ],
      "metadata": {
        "id": "ey7bemS3UOy7"
      }
    },
    {
      "cell_type": "markdown",
      "source": [
        "Ans - 1. Persistent record of events.\n",
        "\n",
        "2. Adjustable verbosity (levels).\n",
        "\n",
        "3. Easier debugging and maintenance.\n",
        "\n",
        "4. No need to remove print statements before production.\n"
      ],
      "metadata": {
        "id": "6fCsay6wUVLp"
      }
    },
    {
      "cell_type": "markdown",
      "source": [
        "- Q11- What is memory management in Python?"
      ],
      "metadata": {
        "id": "X68VqVlmUfbW"
      }
    },
    {
      "cell_type": "markdown",
      "source": [
        "Ans - Process of allocating, using, and freeing memory for objects.\n",
        "\n",
        "Managed by Python’s private heap and garbage collector."
      ],
      "metadata": {
        "id": "q4Uzrxn8UibM"
      }
    },
    {
      "cell_type": "markdown",
      "source": [
        "- Q12- What are the basic steps involved in exception handling in Python?"
      ],
      "metadata": {
        "id": "YYd2y6oEUlAO"
      }
    },
    {
      "cell_type": "markdown",
      "source": [
        "Ans - 1. try → Wrap code that may cause an error.\n",
        "\n",
        "2. except → Catch and handle the error.\n",
        "\n",
        "3. else → Run if no error occurs.\n",
        "\n",
        "4. finally → Always run for cleanup."
      ],
      "metadata": {
        "id": "YwJY9SEHUnzd"
      }
    },
    {
      "cell_type": "markdown",
      "source": [
        "- Q13- . Why is memory management important in Python?"
      ],
      "metadata": {
        "id": "Vjz1NfKVUuJb"
      }
    },
    {
      "cell_type": "markdown",
      "source": [
        "Ans- 1. Prevents memory leaks.\n",
        "\n",
        "2. Ensures efficient performance.\n",
        "\n",
        "3. Avoids crashes due to excessive memory use."
      ],
      "metadata": {
        "id": "Tn6_ejv4UxG-"
      }
    },
    {
      "cell_type": "markdown",
      "source": [
        "- Q14- What is the role of try and except in exception handling?"
      ],
      "metadata": {
        "id": "LQIFGXADU2m9"
      }
    },
    {
      "cell_type": "markdown",
      "source": [
        "Ans- try: Wraps risky code.\n",
        "\n",
        "except: Defines what to do if an error happens."
      ],
      "metadata": {
        "id": "uq5EEj8LU5VH"
      }
    },
    {
      "cell_type": "markdown",
      "source": [
        "- Q15- How does Python's garbage collection system work?"
      ],
      "metadata": {
        "id": "y9KocUD7U748"
      }
    },
    {
      "cell_type": "markdown",
      "source": [
        "Ans - Uses reference counting to track objects.\n",
        "\n",
        "When an object’s reference count drops to 0, memory is freed.\n",
        "\n",
        "Also uses cyclic garbage collector to clean up reference cycles."
      ],
      "metadata": {
        "id": "rkJudQN5U_FW"
      }
    },
    {
      "cell_type": "markdown",
      "source": [
        "- Q16- What is the purpose of the else block in exception handling?"
      ],
      "metadata": {
        "id": "ulmUvQwuVEf9"
      }
    },
    {
      "cell_type": "markdown",
      "source": [
        "Ans - Runs only if no exception is raised in the try block."
      ],
      "metadata": {
        "id": "MKhl9g7PVHFq"
      }
    },
    {
      "cell_type": "markdown",
      "source": [
        "- Q17- What are the common logging levels in Python?"
      ],
      "metadata": {
        "id": "dNIHbIUjVJdO"
      }
    },
    {
      "cell_type": "markdown",
      "source": [
        "Ans -\n",
        "1. DEBUG → Detailed info for debugging.\n",
        "\n",
        "2. INFO → General program info.\n",
        "\n",
        "3. WARNING → Something unexpected happened, but program continues.\n",
        "\n",
        "4. ERROR → Serious issue; program might not run properly.\n",
        "\n",
        "5. CRITICAL → Severe error; program may stop."
      ],
      "metadata": {
        "id": "7T8-tbVFVNPY"
      }
    },
    {
      "cell_type": "markdown",
      "source": [
        "- Q18. What is the difference between os.fork() and multiprocessing in Python?"
      ],
      "metadata": {
        "id": "drvnk_YqVWGR"
      }
    },
    {
      "cell_type": "markdown",
      "source": [
        "Ans - os.fork() → Creates a child process by duplicating the current process; Unix-only.\n",
        "\n",
        "multiprocessing → Cross-platform library for creating processes; higher-level and more portable."
      ],
      "metadata": {
        "id": "Um8GK9bvVd0I"
      }
    },
    {
      "cell_type": "markdown",
      "source": [
        "- Q19- What is the importance of closing a file in Python?"
      ],
      "metadata": {
        "id": "jrx8-VlMVgts"
      }
    },
    {
      "cell_type": "markdown",
      "source": [
        "Ans - Frees system resources.\n",
        "\n",
        "Ensures all buffered data is written to the file.\n",
        "\n",
        "Prevents file corruption."
      ],
      "metadata": {
        "id": "FpU9ZEaxVjxM"
      }
    },
    {
      "cell_type": "markdown",
      "source": [
        "- Q20- What is the difference between file.read() and file.readline() in Python?"
      ],
      "metadata": {
        "id": "qHe8Rb_JVnl1"
      }
    },
    {
      "cell_type": "markdown",
      "source": [
        "Ans - read() → Reads the entire file or given number of characters.\n",
        "\n",
        "readline() → Reads one line at a time."
      ],
      "metadata": {
        "id": "EeZcmTUvVqjs"
      }
    },
    {
      "cell_type": "markdown",
      "source": [
        "- Q21- What is the logging module in Python used for?"
      ],
      "metadata": {
        "id": "ZWuldICkVsmX"
      }
    },
    {
      "cell_type": "markdown",
      "source": [
        "Ans - Built-in module to implement flexible logging systems for apps.\n",
        "\n",
        "Supports different formats, handlers, and logging levels."
      ],
      "metadata": {
        "id": "xFXYmcgcVvWY"
      }
    },
    {
      "cell_type": "markdown",
      "source": [
        "- Q22 - What is the os module in Python used for in file handling?"
      ],
      "metadata": {
        "id": "EBjWl0DJVxaX"
      }
    },
    {
      "cell_type": "markdown",
      "source": [
        "Ans - Provides functions to interact with the operating system—e.g., file paths, directory creation, file removal."
      ],
      "metadata": {
        "id": "SbBC8UGNV3sH"
      }
    },
    {
      "cell_type": "markdown",
      "source": [
        "- Q23- What are the challenges associated with memory management in Python?"
      ],
      "metadata": {
        "id": "98NeZJ1ZV512"
      }
    },
    {
      "cell_type": "markdown",
      "source": [
        "Ans - Managing circular references.\n",
        "\n",
        "High memory usage for large datasets.\n",
        "\n",
        "Garbage collection overhead affecting performance."
      ],
      "metadata": {
        "id": "yR1GA75ZV9kJ"
      }
    },
    {
      "cell_type": "markdown",
      "source": [
        "- Q24 - How do you raise an exception manually in Python?"
      ],
      "metadata": {
        "id": "VD3akCcEWBCu"
      }
    },
    {
      "cell_type": "markdown",
      "source": [
        "Ans - raise ValueError(\"Custom error message\")"
      ],
      "metadata": {
        "id": "BGW1E48KWKjH"
      }
    },
    {
      "cell_type": "markdown",
      "source": [
        "- Q25 - Why is it important to use multithreading in certain applications?"
      ],
      "metadata": {
        "id": "xXGhz3-8WNMA"
      }
    },
    {
      "cell_type": "markdown",
      "source": [
        "Ans - Useful for I/O-bound tasks like network requests and file operations.\n",
        "\n",
        "Increases responsiveness without creating multiple processes."
      ],
      "metadata": {
        "id": "i3IqQVMqWQtP"
      }
    },
    {
      "cell_type": "markdown",
      "source": [
        "- **Practical Questions :**"
      ],
      "metadata": {
        "id": "354kO1juW4TU"
      }
    },
    {
      "cell_type": "markdown",
      "source": [
        "- Q1.  How can you open a file for writing in Python and write a string to it ?"
      ],
      "metadata": {
        "id": "2wqGK__TW-o-"
      }
    },
    {
      "cell_type": "code",
      "source": [
        "# Open file for writing ('w' mode overwrites existing file)\n",
        "with open(\"output.txt\", \"w\") as f:\n",
        "    f.write(\"Hello, Python file handling!\\n\")\n",
        "print(\"File written successfully.\")"
      ],
      "metadata": {
        "colab": {
          "base_uri": "https://localhost:8080/"
        },
        "id": "0t75tXnUXSpG",
        "outputId": "a8700f4a-b2b7-49a6-f2b8-6f0c1ee46681"
      },
      "execution_count": 2,
      "outputs": [
        {
          "output_type": "stream",
          "name": "stdout",
          "text": [
            "File written successfully.\n"
          ]
        }
      ]
    },
    {
      "cell_type": "markdown",
      "source": [
        "- Q.2 Read the contents of a file and print each line ?"
      ],
      "metadata": {
        "id": "Vc4yJIXDXVWh"
      }
    },
    {
      "cell_type": "code",
      "source": [
        "with open(\"output.txt\", \"r\") as f:\n",
        "    for line in f:\n",
        "        print(line.strip())"
      ],
      "metadata": {
        "colab": {
          "base_uri": "https://localhost:8080/"
        },
        "id": "B_fm4s9iXZ-R",
        "outputId": "96afe5ac-b64b-4899-adce-f761d4bbe63d"
      },
      "execution_count": 3,
      "outputs": [
        {
          "output_type": "stream",
          "name": "stdout",
          "text": [
            "Hello, Python file handling!\n"
          ]
        }
      ]
    },
    {
      "cell_type": "markdown",
      "source": [
        "- Q.3 How would you handle file-not-found when opening for reading ?"
      ],
      "metadata": {
        "id": "WL1-KwlSXcHZ"
      }
    },
    {
      "cell_type": "code",
      "source": [
        "try:\n",
        "    with open(\"missing.txt\", \"r\") as f:\n",
        "        print(f.read())\n",
        "except FileNotFoundError:\n",
        "    print(\"Error: File does not exist.\")"
      ],
      "metadata": {
        "colab": {
          "base_uri": "https://localhost:8080/"
        },
        "id": "sphxTtjEXfdh",
        "outputId": "d0aaae99-c531-405d-dc0b-42f31e50ce30"
      },
      "execution_count": 4,
      "outputs": [
        {
          "output_type": "stream",
          "name": "stdout",
          "text": [
            "Error: File does not exist.\n"
          ]
        }
      ]
    },
    {
      "cell_type": "markdown",
      "source": [
        "- Q.4 Write a Python script that reads from one file and writes its content to another file ?"
      ],
      "metadata": {
        "id": "ChJz0pF2XqB6"
      }
    },
    {
      "cell_type": "code",
      "source": [
        "# Read from one file and write to another\n",
        "\n",
        "# Specify the source and destination file paths\n",
        "source_file = \"source.txt\"\n",
        "destination_file = \"destination.txt\"\n",
        "\n",
        "try:\n",
        "    # Open the source file for reading\n",
        "    with open(source_file, \"r\") as src:\n",
        "        content = src.read()  # Read the entire content\n",
        "\n",
        "    # Open the destination file for writing\n",
        "    with open(destination_file, \"w\") as dest:\n",
        "        dest.write(content)  # Write the content to the new file\n",
        "\n",
        "    print(\"File copied successfully!\")\n",
        "\n",
        "except FileNotFoundError:\n",
        "    print(f\"Error: The file '{source_file}' was not found.\")\n",
        "except Exception as e:\n",
        "    print(f\"An error occurred: {e}\")"
      ],
      "metadata": {
        "colab": {
          "base_uri": "https://localhost:8080/"
        },
        "id": "fvbl8j4_Gop8",
        "outputId": "b6f63269-5689-4da1-f36a-f5d0925ea1da"
      },
      "execution_count": 25,
      "outputs": [
        {
          "output_type": "stream",
          "name": "stdout",
          "text": [
            "Error: The file 'source.txt' was not found.\n"
          ]
        }
      ]
    },
    {
      "cell_type": "markdown",
      "source": [
        "- Q.5 -How would you catch and handle division by zero error in Python ?"
      ],
      "metadata": {
        "id": "lQG-2_UkXzXM"
      }
    },
    {
      "cell_type": "code",
      "source": [
        "try:\n",
        "    result = 10 / 0\n",
        "except ZeroDivisionError:\n",
        "    print(\"Error: Division by zero is not allowed.\")"
      ],
      "metadata": {
        "colab": {
          "base_uri": "https://localhost:8080/"
        },
        "id": "LSm_RG4sX5e4",
        "outputId": "ee03d6d1-19bf-4abe-9557-fb155b1d4733"
      },
      "execution_count": 6,
      "outputs": [
        {
          "output_type": "stream",
          "name": "stdout",
          "text": [
            "Error: Division by zero is not allowed.\n"
          ]
        }
      ]
    },
    {
      "cell_type": "markdown",
      "source": [
        "- Q.6 Write a Python program that logs an error message to a log file when a division by zero exception occurs ?"
      ],
      "metadata": {
        "id": "w3wizF5QX8jp"
      }
    },
    {
      "cell_type": "code",
      "source": [
        "import logging\n",
        "\n",
        "logging.basicConfig(filename=\"error.log\", level=logging.ERROR)\n",
        "try:\n",
        "    result = 10 / 0\n",
        "except ZeroDivisionError:\n",
        "    logging.error(\"Division by zero occurred.\")"
      ],
      "metadata": {
        "colab": {
          "base_uri": "https://localhost:8080/"
        },
        "id": "ovryiArhYBB5",
        "outputId": "806ee2c9-abc4-4b8b-f10a-2a1c18a58e12"
      },
      "execution_count": 7,
      "outputs": [
        {
          "output_type": "stream",
          "name": "stderr",
          "text": [
            "ERROR:root:Division by zero occurred.\n"
          ]
        }
      ]
    },
    {
      "cell_type": "markdown",
      "source": [
        "- Q.7- How do you log information at different levels (INFO, ERROR, WARNING) in Python using the logging module?"
      ],
      "metadata": {
        "id": "X3yznqs0YDW-"
      }
    },
    {
      "cell_type": "code",
      "source": [
        "import logging\n",
        "\n",
        "logging.basicConfig(level=logging.DEBUG)  # Logs everything from DEBUG and above\n",
        "\n",
        "logging.info(\"This is an INFO message.\")\n",
        "logging.warning(\"This is a WARNING message.\")\n",
        "logging.error(\"This is an ERROR message.\")\n"
      ],
      "metadata": {
        "colab": {
          "base_uri": "https://localhost:8080/"
        },
        "id": "viA1m29HYJPF",
        "outputId": "752306ed-0a53-473f-9d57-8badc87c6861"
      },
      "execution_count": 8,
      "outputs": [
        {
          "output_type": "stream",
          "name": "stderr",
          "text": [
            "WARNING:root:This is a WARNING message.\n",
            "ERROR:root:This is an ERROR message.\n"
          ]
        }
      ]
    },
    {
      "cell_type": "markdown",
      "source": [
        "- Q.8 -  Write a program to handle a file opening error using exception handling?"
      ],
      "metadata": {
        "id": "qImZR6gTYLf6"
      }
    },
    {
      "cell_type": "code",
      "source": [
        "try:\n",
        "    with open(\"file.txt\", \"r\") as f:\n",
        "        print(f.read())\n",
        "except (FileNotFoundError, IOError) as e:\n",
        "    print(f\"File error: {e}\")"
      ],
      "metadata": {
        "colab": {
          "base_uri": "https://localhost:8080/"
        },
        "id": "9O1UI6CbYP-F",
        "outputId": "0d4b1718-7ad2-4ad7-f2e7-cc9f8ab7a4af"
      },
      "execution_count": 9,
      "outputs": [
        {
          "output_type": "stream",
          "name": "stdout",
          "text": [
            "File error: [Errno 2] No such file or directory: 'file.txt'\n"
          ]
        }
      ]
    },
    {
      "cell_type": "markdown",
      "source": [
        "- Q.9 How can you read a file line by line and store its content in a list in Python?"
      ],
      "metadata": {
        "id": "c72QiO0YYT6s"
      }
    },
    {
      "cell_type": "code",
      "source": [
        "with open(\"output.txt\", \"r\") as f:\n",
        "    lines = [line.strip() for line in f]\n",
        "print(lines)"
      ],
      "metadata": {
        "colab": {
          "base_uri": "https://localhost:8080/"
        },
        "id": "RNFr5fnDYWNa",
        "outputId": "bf6b74bb-22a4-4efd-ab82-63e87463bf06"
      },
      "execution_count": 10,
      "outputs": [
        {
          "output_type": "stream",
          "name": "stdout",
          "text": [
            "['Hello, Python file handling!']\n"
          ]
        }
      ]
    },
    {
      "cell_type": "markdown",
      "source": [
        "- Q.10 How can you append data to an existing file in Python ?"
      ],
      "metadata": {
        "id": "0MQM_CDlYYl5"
      }
    },
    {
      "cell_type": "code",
      "source": [
        "with open(\"output.txt\", \"a\") as f:\n",
        "    f.write(\"New line added!\\n\")\n",
        "print(\"Data appended.\")"
      ],
      "metadata": {
        "colab": {
          "base_uri": "https://localhost:8080/"
        },
        "id": "w35IVf4CYdAU",
        "outputId": "ee1c3f82-e3f1-4b42-f773-aa8f3485dd98"
      },
      "execution_count": 11,
      "outputs": [
        {
          "output_type": "stream",
          "name": "stdout",
          "text": [
            "Data appended.\n"
          ]
        }
      ]
    },
    {
      "cell_type": "markdown",
      "source": [
        "- Q.11  Write a Python program that uses a try-except block to handle an error when attempting to access a\n",
        "dictionary key that doesn't exist ?"
      ],
      "metadata": {
        "id": "J_b-yhxUYfSe"
      }
    },
    {
      "cell_type": "code",
      "source": [
        "data = {\"name\": \"Ankit\"}\n",
        "try:\n",
        "    print(data[\"age\"])\n",
        "except KeyError:\n",
        "    print(\"Key not found in dictionary.\")"
      ],
      "metadata": {
        "colab": {
          "base_uri": "https://localhost:8080/"
        },
        "id": "QhjcZxnUYkBd",
        "outputId": "ee32e7c0-954c-4b50-d56f-2967c2e2782e"
      },
      "execution_count": 12,
      "outputs": [
        {
          "output_type": "stream",
          "name": "stdout",
          "text": [
            "Key not found in dictionary.\n"
          ]
        }
      ]
    },
    {
      "cell_type": "markdown",
      "source": [
        "- Q.12 Write a program that demonstrates using multiple except blocks to handle different types of exceptions ?"
      ],
      "metadata": {
        "id": "_Nzx8QgBYm7u"
      }
    },
    {
      "cell_type": "code",
      "source": [
        "try:\n",
        "    num = int(\"abc\")  # ValueError\n",
        "    result = 10 / 0   # ZeroDivisionError\n",
        "except ValueError:\n",
        "    print(\"Invalid value provided.\")\n",
        "except ZeroDivisionError:\n",
        "    print(\"Cannot divide by zero.\")\n"
      ],
      "metadata": {
        "colab": {
          "base_uri": "https://localhost:8080/"
        },
        "id": "aqQxQ1F7Yq4d",
        "outputId": "e918fc30-df91-4f06-bbae-95fe91a7c541"
      },
      "execution_count": 13,
      "outputs": [
        {
          "output_type": "stream",
          "name": "stdout",
          "text": [
            "Invalid value provided.\n"
          ]
        }
      ]
    },
    {
      "cell_type": "markdown",
      "source": [
        "- Q.13 How would you check if a file exists before attempting to read it in Python ?"
      ],
      "metadata": {
        "id": "ne-h-Hq-Yspj"
      }
    },
    {
      "cell_type": "code",
      "source": [
        "import os\n",
        "\n",
        "if os.path.exists(\"output.txt\"):\n",
        "    print(\"File exists.\")\n",
        "else:\n",
        "    print(\"File does not exist.\")\n"
      ],
      "metadata": {
        "colab": {
          "base_uri": "https://localhost:8080/"
        },
        "id": "FBS7ESXlY1CM",
        "outputId": "4bc9a608-187b-460f-81b2-fa0c37c59ad2"
      },
      "execution_count": 14,
      "outputs": [
        {
          "output_type": "stream",
          "name": "stdout",
          "text": [
            "File exists.\n"
          ]
        }
      ]
    },
    {
      "cell_type": "markdown",
      "source": [
        "- Q.14  Write a program that uses the logging module to log both informational and error messages ?"
      ],
      "metadata": {
        "id": "vqcd2sCcY2RG"
      }
    },
    {
      "cell_type": "code",
      "source": [
        "import logging\n",
        "\n",
        "logging.basicConfig(filename=\"logfile.log\", level=logging.DEBUG)\n",
        "logging.info(\"Program started successfully.\")\n",
        "try:\n",
        "    10 / 0\n",
        "except ZeroDivisionError:\n",
        "    logging.error(\"Division by zero error occurred.\")"
      ],
      "metadata": {
        "colab": {
          "base_uri": "https://localhost:8080/"
        },
        "id": "pi6jZKiZY53m",
        "outputId": "fa76cdd6-db28-4e8f-f54a-9d1ee85b79e1"
      },
      "execution_count": 15,
      "outputs": [
        {
          "output_type": "stream",
          "name": "stderr",
          "text": [
            "ERROR:root:Division by zero error occurred.\n"
          ]
        }
      ]
    },
    {
      "cell_type": "markdown",
      "source": [
        "- Q.15  Write a Python program that prints the content of a file and handles the case when the file is empty ?"
      ],
      "metadata": {
        "id": "Ic01lOc6Y8TM"
      }
    },
    {
      "cell_type": "code",
      "source": [
        "import os\n",
        "\n",
        "filename = \"output.txt\"\n",
        "\n",
        "if os.path.getsize(filename) == 0:\n",
        "    print(\"File is empty.\")\n",
        "else:\n",
        "    with open(filename, \"r\") as f:\n",
        "        print(f.read())"
      ],
      "metadata": {
        "colab": {
          "base_uri": "https://localhost:8080/"
        },
        "id": "qF_k9vofZA4X",
        "outputId": "339cf47f-7275-4b9c-a951-6941e6ea75e3"
      },
      "execution_count": 16,
      "outputs": [
        {
          "output_type": "stream",
          "name": "stdout",
          "text": [
            "Hello, Python file handling!\n",
            "New line added!\n",
            "\n"
          ]
        }
      ]
    },
    {
      "cell_type": "markdown",
      "source": [
        "- Q.16 Demonstrate how to use memory profiling to check the memory usage of a small program ?"
      ],
      "metadata": {
        "id": "b2EoqJ-pZFUt"
      }
    },
    {
      "cell_type": "code",
      "source": [
        "from memory_profiler import profile\n",
        "\n",
        "@profile\n",
        "def my_function():\n",
        "    numbers = [i for i in range(10000)]\n",
        "    print(\"List created.\")\n",
        "\n",
        "my_function()"
      ],
      "metadata": {
        "id": "xJq2ZcclIFOh"
      },
      "execution_count": null,
      "outputs": []
    },
    {
      "cell_type": "markdown",
      "source": [
        "- Q.17  Write a Python program to create and write a list of numbers to a file, one number per line ?"
      ],
      "metadata": {
        "id": "mmGnXnm9ZOty"
      }
    },
    {
      "cell_type": "code",
      "source": [
        "numbers = [1, 2, 3, 4, 5]\n",
        "with open(\"numbers.txt\", \"w\") as f:\n",
        "    for num in numbers:\n",
        "        f.write(f\"{num}\\n\")"
      ],
      "metadata": {
        "id": "dmMGiVW-ZUKc"
      },
      "execution_count": 33,
      "outputs": []
    },
    {
      "cell_type": "markdown",
      "source": [
        "- Q.18 How would you implement a basic logging setup that logs to a file with rotation after 1MB ?"
      ],
      "metadata": {
        "id": "oE7l3sVbZYtJ"
      }
    },
    {
      "cell_type": "code",
      "source": [
        "import logging\n",
        "from logging.handlers import RotatingFileHandler\n",
        "\n",
        "handler = RotatingFileHandler(\"rotating.log\", maxBytes=1_000_000, backupCount=3)\n",
        "logging.basicConfig(handlers=[handler], level=logging.INFO)\n",
        "\n",
        "logging.info(\"This is a log entry.\")\n"
      ],
      "metadata": {
        "id": "M_WJRJc7ZgLM"
      },
      "execution_count": 19,
      "outputs": []
    },
    {
      "cell_type": "markdown",
      "source": [
        "- Q.19  Write a program that handles both IndexError and KeyError using a try-except block ?"
      ],
      "metadata": {
        "id": "ejgEjCWlZiTo"
      }
    },
    {
      "cell_type": "code",
      "source": [
        "try:\n",
        "    lst = [1, 2, 3]\n",
        "    print(lst[5])  # IndexError\n",
        "    data = {\"name\": \"Ankit\"}\n",
        "    print(data[\"age\"])  # KeyError\n",
        "except IndexError:\n",
        "    print(\"List index out of range.\")\n",
        "except KeyError:\n",
        "    print(\"Dictionary key not found.\")"
      ],
      "metadata": {
        "colab": {
          "base_uri": "https://localhost:8080/"
        },
        "id": "uzEJ9Y52ZmVg",
        "outputId": "7a1fa7d7-df2b-4a78-c68b-6b79692e3b9d"
      },
      "execution_count": 20,
      "outputs": [
        {
          "output_type": "stream",
          "name": "stdout",
          "text": [
            "List index out of range.\n"
          ]
        }
      ]
    },
    {
      "cell_type": "markdown",
      "source": [
        "- Q.20  How would you open a file and read its contents using a context manager in Python ?"
      ],
      "metadata": {
        "id": "w7g1F2apZo1C"
      }
    },
    {
      "cell_type": "code",
      "source": [
        "with open(\"output.txt\", \"r\") as f:\n",
        "    print(f.read())"
      ],
      "metadata": {
        "colab": {
          "base_uri": "https://localhost:8080/"
        },
        "id": "E1VcQW3CZuHc",
        "outputId": "196a8fae-e58d-4e99-e881-4b78425fa42d"
      },
      "execution_count": 21,
      "outputs": [
        {
          "output_type": "stream",
          "name": "stdout",
          "text": [
            "Hello, Python file handling!\n",
            "New line added!\n",
            "\n"
          ]
        }
      ]
    },
    {
      "cell_type": "markdown",
      "source": [
        "- Q.21 Write a Python program that reads a file and prints the number of occurrences of a specific word ?"
      ],
      "metadata": {
        "id": "BVrwSLwaZwje"
      }
    },
    {
      "cell_type": "code",
      "source": [
        "word_to_count = \"Python\"\n",
        "count = 0\n",
        "with open(\"output.txt\", \"r\") as f:\n",
        "    for line in f:\n",
        "        count += line.split().count(word_to_count)\n",
        "print(f\"'{word_to_count}' occurs {count} times.\")"
      ],
      "metadata": {
        "colab": {
          "base_uri": "https://localhost:8080/"
        },
        "id": "-f0zniqeZ0jC",
        "outputId": "4064dac0-2581-4a1f-eab4-131aacdeb450"
      },
      "execution_count": 22,
      "outputs": [
        {
          "output_type": "stream",
          "name": "stdout",
          "text": [
            "'Python' occurs 1 times.\n"
          ]
        }
      ]
    },
    {
      "cell_type": "markdown",
      "source": [
        "- Q.22 F How can you check if a file is empty before attempting to read its contents ?"
      ],
      "metadata": {
        "id": "lNRCLf19Z3ra"
      }
    },
    {
      "cell_type": "code",
      "source": [
        "import os\n",
        "\n",
        "filename = \"output.txt\"\n",
        "if os.path.exists(filename) and os.path.getsize(filename) > 0:\n",
        "    with open(filename, \"r\") as f:\n",
        "        print(f.read())\n",
        "else:\n",
        "    print(\"File is empty or missing.\")\n"
      ],
      "metadata": {
        "colab": {
          "base_uri": "https://localhost:8080/"
        },
        "id": "anCnMNTNZ84V",
        "outputId": "9fce010d-c668-4c52-fe33-68c07cf4b09e"
      },
      "execution_count": 24,
      "outputs": [
        {
          "output_type": "stream",
          "name": "stdout",
          "text": [
            "Hello, Python file handling!\n",
            "New line added!\n",
            "\n"
          ]
        }
      ]
    },
    {
      "cell_type": "markdown",
      "source": [
        "- Q.23  Write a Python program that writes to a log file when an error occurs during file handling ?"
      ],
      "metadata": {
        "id": "H6cIkwY8Z-02"
      }
    },
    {
      "cell_type": "code",
      "source": [
        "import logging\n",
        "\n",
        "logging.basicConfig(filename=\"file_error.log\", level=logging.ERROR)\n",
        "\n",
        "try:\n",
        "    with open(\"unknown.txt\", \"r\") as f:\n",
        "        print(f.read())\n",
        "except Exception as e:\n",
        "    logging.error(f\"File handling error: {e}\")\n",
        "\n"
      ],
      "metadata": {
        "colab": {
          "base_uri": "https://localhost:8080/"
        },
        "id": "senblwJmaDD0",
        "outputId": "e31bf8f5-f241-4621-d7fe-33952ff24ed3"
      },
      "execution_count": null,
      "outputs": [
        {
          "output_type": "stream",
          "name": "stderr",
          "text": [
            "ERROR:root:File handling error: [Errno 2] No such file or directory: 'unknown.txt'\n"
          ]
        }
      ]
    }
  ]
}